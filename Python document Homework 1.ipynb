{
 "cells": [
  {
   "cell_type": "code",
   "execution_count": null,
   "metadata": {},
   "outputs": [],
   "source": [
    "color = input('What color is your vehicle?')\n",
    "year = input('What is the year?')\n",
    "make = input(\"What is the make?\")\n",
    "model = input('What is the model?')\n",
    "\n",
    "print(f\"Your vehicle is a {color} {year} {make} {model}\")\n"
   ]
  },
  {
   "cell_type": "markdown",
   "metadata": {},
   "source": []
  },
  {
   "cell_type": "code",
   "execution_count": null,
   "metadata": {},
   "outputs": [],
   "source": []
  }
 ],
 "metadata": {
  "kernelspec": {
   "display_name": "Python 3.9.0 64-bit",
   "language": "python",
   "name": "python3"
  },
  "language_info": {
   "codemirror_mode": {
    "name": "ipython",
    "version": 3
   },
   "file_extension": ".py",
   "mimetype": "text/x-python",
   "name": "python",
   "nbconvert_exporter": "python",
   "pygments_lexer": "ipython3",
   "version": "3.9.0"
  },
  "vscode": {
   "interpreter": {
    "hash": "30e69922e4be07621ed504deb27200598afc2690d53286fc6f25edbb59d611ba"
   }
  }
 },
 "nbformat": 4,
 "nbformat_minor": 4
}

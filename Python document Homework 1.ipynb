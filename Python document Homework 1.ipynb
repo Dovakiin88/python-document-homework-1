{
 "cells": [
  {
   "cell_type": "code",
   "execution_count": 8,
   "metadata": {},
   "outputs": [
    {
     "name": "stdout",
     "output_type": "stream",
     "text": [
      "0 0\n",
      "1 1\n",
      "8 2\n",
      "27 3\n",
      "64 4\n",
      "125 5\n",
      "216 6\n",
      "343 7\n",
      "512 8\n",
      "729 9\n",
      "1000 10\n"
     ]
    }
   ],
   "source": [
    "#Question 1\n",
    "\n",
    "num = 0\n",
    "\n",
    "while num**3 <= 1000:\n",
    "    print(num**3, num)\n",
    "    num += 1\n",
    "\n"
   ]
  },
  {
   "cell_type": "code",
   "execution_count": 9,
   "metadata": {},
   "outputs": [
    {
     "name": "stdout",
     "output_type": "stream",
     "text": [
      "prime number 1\n",
      "not prime number 2\n",
      "prime number 3\n",
      "not prime number 4\n",
      "prime number 5\n",
      "not prime number 6\n",
      "prime number 7\n",
      "not prime number 8\n",
      "prime number 9\n",
      "not prime number 10\n",
      "prime number 11\n",
      "not prime number 12\n",
      "prime number 13\n",
      "not prime number 14\n",
      "prime number 15\n",
      "not prime number 16\n",
      "prime number 17\n",
      "not prime number 18\n",
      "prime number 19\n",
      "not prime number 20\n",
      "prime number 21\n",
      "not prime number 22\n",
      "prime number 23\n",
      "not prime number 24\n",
      "prime number 25\n",
      "not prime number 26\n",
      "prime number 27\n",
      "not prime number 28\n",
      "prime number 29\n",
      "not prime number 30\n",
      "prime number 31\n",
      "not prime number 32\n",
      "prime number 33\n",
      "not prime number 34\n",
      "prime number 35\n",
      "not prime number 36\n",
      "prime number 37\n",
      "not prime number 38\n",
      "prime number 39\n",
      "not prime number 40\n",
      "prime number 41\n",
      "not prime number 42\n",
      "prime number 43\n",
      "not prime number 44\n",
      "prime number 45\n",
      "not prime number 46\n",
      "prime number 47\n",
      "not prime number 48\n",
      "prime number 49\n",
      "not prime number 50\n",
      "prime number 51\n",
      "not prime number 52\n",
      "prime number 53\n",
      "not prime number 54\n",
      "prime number 55\n",
      "not prime number 56\n",
      "prime number 57\n",
      "not prime number 58\n",
      "prime number 59\n",
      "not prime number 60\n",
      "prime number 61\n",
      "not prime number 62\n",
      "prime number 63\n",
      "not prime number 64\n",
      "prime number 65\n",
      "not prime number 66\n",
      "prime number 67\n",
      "not prime number 68\n",
      "prime number 69\n",
      "not prime number 70\n",
      "prime number 71\n",
      "not prime number 72\n",
      "prime number 73\n",
      "not prime number 74\n",
      "prime number 75\n",
      "not prime number 76\n",
      "prime number 77\n",
      "not prime number 78\n",
      "prime number 79\n",
      "not prime number 80\n",
      "prime number 81\n",
      "not prime number 82\n",
      "prime number 83\n",
      "not prime number 84\n",
      "prime number 85\n",
      "not prime number 86\n",
      "prime number 87\n",
      "not prime number 88\n",
      "prime number 89\n",
      "not prime number 90\n",
      "prime number 91\n",
      "not prime number 92\n",
      "prime number 93\n",
      "not prime number 94\n",
      "prime number 95\n",
      "not prime number 96\n",
      "prime number 97\n",
      "not prime number 98\n",
      "prime number 99\n",
      " 2   3   5   7   11   13   17   19   23   29   31   37   41   43   47   53   59   61   67   71   73   79   83   89   97  "
     ]
    }
   ],
   "source": [
    "#Question 2\n",
    "# i figured out this does not work as this just will call anything the divides evenly a prime number.\n",
    "# i dont fuly understand what a prime number is. I looked it up but I still dont grasp the concept\n",
    "for x in range(1,100):\n",
    "    if x % 2 == 0:\n",
    "        print(\"not prime number\", x)\n",
    "    else:\n",
    "        print(\"prime number\", x)\n",
    "\n",
    "\n",
    "#this is an answer i found but i dont understand it. \n",
    "for Number in range (1, 101):\n",
    "    count = 0\n",
    "    for i in range(2, (Number//2 + 1)):\n",
    "        if(Number % i == 0):\n",
    "            count = count + 1\n",
    "            break\n",
    "\n",
    "    if (count == 0 and Number != 1):\n",
    "        print(\" %d\" %Number, end = '  ')"
   ]
  },
  {
   "cell_type": "code",
   "execution_count": 13,
   "metadata": {},
   "outputs": [
    {
     "name": "stdout",
     "output_type": "stream",
     "text": [
      "Enter age: 63\n",
      "adult\n"
     ]
    }
   ],
   "source": [
    "#Question 3\n",
    "\n",
    "age = int(input('Enter age: '))\n",
    "\n",
    "if age < 18:\n",
    "    print('Kid')\n",
    "elif 18 <= age <= 65: \n",
    "    print('adult')\n",
    "else:\n",
    "    print('Elder')"
   ]
  },
  {
   "cell_type": "code",
   "execution_count": null,
   "metadata": {},
   "outputs": [],
   "source": []
  },
  {
   "cell_type": "code",
   "execution_count": null,
   "metadata": {},
   "outputs": [],
   "source": []
  }
 ],
 "metadata": {
  "kernelspec": {
   "display_name": "Python 3",
   "language": "python",
   "name": "python3"
  },
  "language_info": {
   "codemirror_mode": {
    "name": "ipython",
    "version": 3
   },
   "file_extension": ".py",
   "mimetype": "text/x-python",
   "name": "python",
   "nbconvert_exporter": "python",
   "pygments_lexer": "ipython3",
   "version": "3.8.5"
  }
 },
 "nbformat": 4,
 "nbformat_minor": 4
}
